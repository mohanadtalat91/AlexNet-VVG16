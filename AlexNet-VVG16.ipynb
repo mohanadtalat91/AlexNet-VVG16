{
 "cells": [
  {
   "cell_type": "code",
   "execution_count": 1,
   "id": "d24f594c",
   "metadata": {
    "scrolled": true
   },
   "outputs": [],
   "source": [
    "import math\n",
    "import numpy as np\n",
    "import h5py\n",
    "import matplotlib.pyplot as plt\n",
    "from matplotlib.pyplot import imread\n",
    "import scipy\n",
    "from PIL import Image\n",
    "import pandas as pd\n",
    "\n",
    "#import tensorflow as tf\n",
    "#from tensorflow import keras\n",
    "\n",
    "import tensorflow as tf\n",
    "import tensorflow.keras.layers as tfl\n",
    "from tensorflow.python.framework import ops\n",
    "\n",
    "import os\n",
    "os.environ['KMP_DUPLICATE_LIB_OK']='True'\n",
    "\n",
    "np.random.seed(1)"
   ]
  },
  {
   "cell_type": "code",
   "execution_count": 2,
   "id": "e4b7e852",
   "metadata": {},
   "outputs": [],
   "source": [
    "def load_data():\n",
    "    train_dataset = h5py.File('datasets/train_catvnoncat.h5', \"r\")\n",
    "    train_set_x_orig = np.array(train_dataset[\"train_set_x\"][:]) # your train set features\n",
    "    train_set_y_orig = np.array(train_dataset[\"train_set_y\"][:]) # your train set labels\n",
    "\n",
    "    test_dataset = h5py.File('datasets/test_catvnoncat.h5', \"r\")\n",
    "    test_set_x_orig = np.array(test_dataset[\"test_set_x\"][:]) # your test set features\n",
    "    test_set_y_orig = np.array(test_dataset[\"test_set_y\"][:]) # your test set labels\n",
    "\n",
    "    classes = np.array(test_dataset[\"list_classes\"][:]) # the list of classes\n",
    "    \n",
    "    train_set_y_orig = train_set_y_orig.reshape((1, train_set_y_orig.shape[0]))\n",
    "    test_set_y_orig = test_set_y_orig.reshape((1, test_set_y_orig.shape[0]))\n",
    "    \n",
    "    return train_set_x_orig, train_set_y_orig, test_set_x_orig, test_set_y_orig, classes\n"
   ]
  },
  {
   "cell_type": "code",
   "execution_count": 3,
   "id": "8dde2969",
   "metadata": {},
   "outputs": [],
   "source": [
    "X_train_orig, Y_train_orig, X_test_orig, Y_test_orig, classes = load_data()"
   ]
  },
  {
   "cell_type": "code",
   "execution_count": 4,
   "id": "17251be3",
   "metadata": {},
   "outputs": [
    {
     "name": "stdout",
     "output_type": "stream",
     "text": [
      "y = 0. It's a non-cat picture.\n"
     ]
    },
    {
     "data": {
      "image/png": "[encoded data removed]",
      "text/plain": [
       "<Figure size 432x288 with 1 Axes>"
      ]
     },
     "metadata": {
      "needs_background": "light"
     },
     "output_type": "display_data"
    }
   ],
   "source": [
    "# Example of a picture\n",
    "index = 77\n",
    "plt.imshow(X_train_orig[index])\n",
    "print (\"y = \" + str(Y_train_orig[0,index]) + \". It's a \" + classes[Y_train_orig[0,index]].decode(\"utf-8\") +  \" picture.\")"
   ]
  },
  {
   "cell_type": "code",
   "execution_count": 5,
   "id": "a3fc7a50",
   "metadata": {},
   "outputs": [
    {
     "name": "stdout",
     "output_type": "stream",
     "text": [
      "number of training examples = 209\n",
      "number of test examples = 50\n",
      "X_train shape: (209, 64, 64, 3)\n",
      "Y_train shape: (209, 1)\n",
      "X_test shape: (50, 64, 64, 3)\n",
      "Y_test shape: (50, 1)\n"
     ]
    }
   ],
   "source": [
    "# Normalize image vectors\n",
    "X_train = X_train_orig/255.\n",
    "X_test = X_test_orig/255.\n",
    "\n",
    "# Reshape\n",
    "Y_train = Y_train_orig.T\n",
    "Y_test = Y_test_orig.T\n",
    "\n",
    "print (\"number of training examples = \" + str(X_train.shape[0]))\n",
    "print (\"number of test examples = \" + str(X_test.shape[0]))\n",
    "print (\"X_train shape: \" + str(X_train.shape))\n",
    "print (\"Y_train shape: \" + str(Y_train.shape))\n",
    "print (\"X_test shape: \" + str(X_test.shape))\n",
    "print (\"Y_test shape: \" + str(Y_test.shape))"
   ]
  },
  {
   "cell_type": "code",
   "execution_count": 6,
   "id": "199c950d",
   "metadata": {},
   "outputs": [],
   "source": [
    "def ALEXNET_Model():\n",
    "    \n",
    "    model=tf.keras.models.Sequential([\n",
    "    tf.keras.layers.Conv2D(filters=128, kernel_size=(11,11), strides=(4,4), activation='relu', input_shape=(64,64,3)),\n",
    "    tf.keras.layers.BatchNormalization(),\n",
    "    tf.keras.layers.MaxPool2D(pool_size=(2,2)),\n",
    "    tf.keras.layers.Conv2D(filters=256, kernel_size=(5,5), strides=(1,1), activation='relu', padding=\"same\"),\n",
    "    tf.keras.layers.BatchNormalization(),\n",
    "    tf.keras.layers.MaxPool2D(pool_size=(3,3)),\n",
    "    tf.keras.layers.Conv2D(filters=256, kernel_size=(3,3), strides=(1,1), activation='relu', padding=\"same\"),\n",
    "    tf.keras.layers.BatchNormalization(),\n",
    "    tf.keras.layers.Conv2D(filters=256, kernel_size=(1,1), strides=(1,1), activation='relu', padding=\"same\"),\n",
    "    tf.keras.layers.BatchNormalization(),\n",
    "    tf.keras.layers.Conv2D(filters=256, kernel_size=(1,1), strides=(1,1), activation='relu', padding=\"same\"),\n",
    "    tf.keras.layers.BatchNormalization(),\n",
    "    tf.keras.layers.MaxPool2D(pool_size=(2,2)),\n",
    "    tf.keras.layers.Flatten(),\n",
    "    tf.keras.layers.Dense(1024,activation='relu'),\n",
    "    tf.keras.layers.Dropout(0.5),\n",
    "    tf.keras.layers.Dense(1024,activation='relu'),\n",
    "    tf.keras.layers.Dropout(0.5),\n",
    "    tf.keras.layers.Dense(1,activation='sigmoid')  \n",
    "    \n",
    "    \n",
    "])\n",
    "    \n",
    "    return model"
   ]
  },
  {
   "cell_type": "code",
   "execution_count": 7,
   "id": "4bb4140f",
   "metadata": {},
   "outputs": [],
   "source": [
    "AlexNet = ALEXNET_Model()"
   ]
  },
  {
   "cell_type": "code",
   "execution_count": 8,
   "id": "e7783bcf",
   "metadata": {},
   "outputs": [],
   "source": [
    "AlexNet.compile(optimizer=tf.keras.optimizers.Adam(learning_rate=0.0001),\n",
    "                loss='binary_crossentropy',\n",
    "                metrics=['accuracy']\n",
    "               )"
   ]
  },
  {
   "cell_type": "code",
   "execution_count": 9,
   "id": "a3fd0e12",
   "metadata": {
    "scrolled": true
   },
   "outputs": [
    {
     "name": "stdout",
     "output_type": "stream",
     "text": [
      "Model: \"sequential\"\n",
      "_________________________________________________________________\n",
      "Layer (type)                 Output Shape              Param #   \n",
      "=================================================================\n",
      "conv2d (Conv2D)              (None, 14, 14, 128)       46592     \n",
      "_________________________________________________________________\n",
      "batch_normalization (BatchNo (None, 14, 14, 128)       512       \n",
      "_________________________________________________________________\n",
      "max_pooling2d (MaxPooling2D) (None, 7, 7, 128)         0         \n",
      "_________________________________________________________________\n",
      "conv2d_1 (Conv2D)            (None, 7, 7, 256)         819456    \n",
      "_________________________________________________________________\n",
      "batch_normalization_1 (Batch (None, 7, 7, 256)         1024      \n",
      "_________________________________________________________________\n",
      "max_pooling2d_1 (MaxPooling2 (None, 2, 2, 256)         0         \n",
      "_________________________________________________________________\n",
      "conv2d_2 (Conv2D)            (None, 2, 2, 256)         590080    \n",
      "_________________________________________________________________\n",
      "batch_normalization_2 (Batch (None, 2, 2, 256)         1024      \n",
      "_________________________________________________________________\n",
      "conv2d_3 (Conv2D)            (None, 2, 2, 256)         65792     \n",
      "_________________________________________________________________\n",
      "batch_normalization_3 (Batch (None, 2, 2, 256)         1024      \n",
      "_________________________________________________________________\n",
      "conv2d_4 (Conv2D)            (None, 2, 2, 256)         65792     \n",
      "_________________________________________________________________\n",
      "batch_normalization_4 (Batch (None, 2, 2, 256)         1024      \n",
      "_________________________________________________________________\n",
      "max_pooling2d_2 (MaxPooling2 (None, 1, 1, 256)         0         \n",
      "_________________________________________________________________\n",
      "flatten (Flatten)            (None, 256)               0         \n",
      "_________________________________________________________________\n",
      "dense (Dense)                (None, 1024)              263168    \n",
      "_________________________________________________________________\n",
      "dropout (Dropout)            (None, 1024)              0         \n",
      "_________________________________________________________________\n",
      "dense_1 (Dense)              (None, 1024)              1049600   \n",
      "_________________________________________________________________\n",
      "dropout_1 (Dropout)          (None, 1024)              0         \n",
      "_________________________________________________________________\n",
      "dense_2 (Dense)              (None, 1)                 1025      \n",
      "=================================================================\n",
      "Total params: 2,906,113\n",
      "Trainable params: 2,903,809\n",
      "Non-trainable params: 2,304\n",
      "_________________________________________________________________\n"
     ]
    }
   ],
   "source": [
    "AlexNet.summary()"
   ]
  },
  {
   "cell_type": "code",
   "execution_count": 10,
   "id": "4b7a7f43",
   "metadata": {
    "scrolled": true
   },
   "outputs": [
    {
     "name": "stdout",
     "output_type": "stream",
     "text": [
      "Epoch 1/50\n",
      "14/14 [==============================] - 2s 84ms/step - loss: 0.7578 - accuracy: 0.5981\n",
      "Epoch 2/50\n",
      "14/14 [==============================] - 1s 86ms/step - loss: 0.7252 - accuracy: 0.6507\n",
      "Epoch 3/50\n",
      "14/14 [==============================] - 1s 98ms/step - loss: 0.5987 - accuracy: 0.6986\n",
      "Epoch 4/50\n",
      "14/14 [==============================] - 1s 96ms/step - loss: 0.5310 - accuracy: 0.6986\n",
      "Epoch 5/50\n",
      "14/14 [==============================] - 1s 94ms/step - loss: 0.4997 - accuracy: 0.7416\n",
      "Epoch 6/50\n",
      "14/14 [==============================] - 1s 101ms/step - loss: 0.4425 - accuracy: 0.79430s - loss: 0.4140 - ac\n",
      "Epoch 7/50\n",
      "14/14 [==============================] - 2s 105ms/step - loss: 0.3643 - accuracy: 0.8708\n",
      "Epoch 8/50\n",
      "14/14 [==============================] - 1s 92ms/step - loss: 0.3934 - accuracy: 0.8134\n",
      "Epoch 9/50\n",
      "14/14 [==============================] - 1s 103ms/step - loss: 0.4030 - accuracy: 0.8086\n",
      "Epoch 10/50\n",
      "14/14 [==============================] - 1s 96ms/step - loss: 0.2862 - accuracy: 0.8947\n",
      "Epoch 11/50\n",
      "14/14 [==============================] - 1s 94ms/step - loss: 0.2701 - accuracy: 0.8804\n",
      "Epoch 12/50\n",
      "14/14 [==============================] - 1s 96ms/step - loss: 0.2852 - accuracy: 0.8900\n",
      "Epoch 13/50\n",
      "14/14 [==============================] - 1s 89ms/step - loss: 0.3131 - accuracy: 0.8517\n",
      "Epoch 14/50\n",
      "14/14 [==============================] - 1s 89ms/step - loss: 0.2471 - accuracy: 0.9234\n",
      "Epoch 15/50\n",
      "14/14 [==============================] - 1s 95ms/step - loss: 0.2602 - accuracy: 0.9139\n",
      "Epoch 16/50\n",
      "14/14 [==============================] - 1s 94ms/step - loss: 0.2451 - accuracy: 0.8947\n",
      "Epoch 17/50\n",
      "14/14 [==============================] - 1s 93ms/step - loss: 0.2194 - accuracy: 0.9043\n",
      "Epoch 18/50\n",
      "14/14 [==============================] - 1s 92ms/step - loss: 0.2346 - accuracy: 0.9139\n",
      "Epoch 19/50\n",
      "14/14 [==============================] - 1s 96ms/step - loss: 0.2459 - accuracy: 0.9043\n",
      "Epoch 20/50\n",
      "14/14 [==============================] - 1s 93ms/step - loss: 0.3389 - accuracy: 0.8756\n",
      "Epoch 21/50\n",
      "14/14 [==============================] - 1s 92ms/step - loss: 0.1444 - accuracy: 0.9330\n",
      "Epoch 22/50\n",
      "14/14 [==============================] - 1s 96ms/step - loss: 0.1483 - accuracy: 0.9426\n",
      "Epoch 23/50\n",
      "14/14 [==============================] - 1s 99ms/step - loss: 0.1037 - accuracy: 0.9665\n",
      "Epoch 24/50\n",
      "14/14 [==============================] - 1s 96ms/step - loss: 0.1743 - accuracy: 0.9234\n",
      "Epoch 25/50\n",
      "14/14 [==============================] - 1s 95ms/step - loss: 0.1451 - accuracy: 0.9569\n",
      "Epoch 26/50\n",
      "14/14 [==============================] - 1s 96ms/step - loss: 0.1813 - accuracy: 0.9378\n",
      "Epoch 27/50\n",
      "14/14 [==============================] - 1s 95ms/step - loss: 0.1374 - accuracy: 0.9617\n",
      "Epoch 28/50\n",
      "14/14 [==============================] - 1s 97ms/step - loss: 0.1343 - accuracy: 0.9569\n",
      "Epoch 29/50\n",
      "14/14 [==============================] - 1s 98ms/step - loss: 0.1862 - accuracy: 0.9187\n",
      "Epoch 30/50\n",
      "14/14 [==============================] - 1s 94ms/step - loss: 0.1029 - accuracy: 0.9713\n",
      "Epoch 31/50\n",
      "14/14 [==============================] - 1s 88ms/step - loss: 0.0860 - accuracy: 0.9569\n",
      "Epoch 32/50\n",
      "14/14 [==============================] - 1s 89ms/step - loss: 0.1803 - accuracy: 0.9187\n",
      "Epoch 33/50\n",
      "14/14 [==============================] - 1s 90ms/step - loss: 0.1781 - accuracy: 0.9282\n",
      "Epoch 34/50\n",
      "14/14 [==============================] - 1s 86ms/step - loss: 0.1320 - accuracy: 0.9522\n",
      "Epoch 35/50\n",
      "14/14 [==============================] - 1s 89ms/step - loss: 0.0690 - accuracy: 0.9761\n",
      "Epoch 36/50\n",
      "14/14 [==============================] - 1s 91ms/step - loss: 0.1216 - accuracy: 0.9665\n",
      "Epoch 37/50\n",
      "14/14 [==============================] - 1s 90ms/step - loss: 0.1504 - accuracy: 0.9426 1s - loss: 0\n",
      "Epoch 38/50\n",
      "14/14 [==============================] - 1s 86ms/step - loss: 0.0447 - accuracy: 0.9904\n",
      "Epoch 39/50\n",
      "14/14 [==============================] - 1s 103ms/step - loss: 0.1104 - accuracy: 0.9713\n",
      "Epoch 40/50\n",
      "14/14 [==============================] - 1s 97ms/step - loss: 0.0955 - accuracy: 0.9522\n",
      "Epoch 41/50\n",
      "14/14 [==============================] - 1s 96ms/step - loss: 0.1785 - accuracy: 0.9378\n",
      "Epoch 42/50\n",
      "14/14 [==============================] - 1s 95ms/step - loss: 0.1701 - accuracy: 0.9378\n",
      "Epoch 43/50\n",
      "14/14 [==============================] - 1s 99ms/step - loss: 0.1744 - accuracy: 0.9330\n",
      "Epoch 44/50\n",
      "14/14 [==============================] - 1s 98ms/step - loss: 0.1439 - accuracy: 0.9474\n",
      "Epoch 45/50\n",
      "14/14 [==============================] - 1s 96ms/step - loss: 0.1439 - accuracy: 0.9474\n",
      "Epoch 46/50\n",
      "14/14 [==============================] - 1s 101ms/step - loss: 0.1454 - accuracy: 0.9617\n",
      "Epoch 47/50\n",
      "14/14 [==============================] - 1s 91ms/step - loss: 0.1394 - accuracy: 0.9522\n",
      "Epoch 48/50\n",
      "14/14 [==============================] - 1s 94ms/step - loss: 0.0961 - accuracy: 0.9569\n",
      "Epoch 49/50\n",
      "14/14 [==============================] - 1s 95ms/step - loss: 0.0550 - accuracy: 0.9761\n",
      "Epoch 50/50\n",
      "14/14 [==============================] - 1s 96ms/step - loss: 0.0275 - accuracy: 0.9856\n"
     ]
    },
    {
     "data": {
      "text/plain": [
       "<keras.callbacks.History at 0x29eec488fa0>"
      ]
     },
     "execution_count": 10,
     "metadata": {},
     "output_type": "execute_result"
    }
   ],
   "source": [
    "AlexNet.fit(X_train, Y_train, epochs=50, batch_size=16)"
   ]
  },
  {
   "cell_type": "code",
   "execution_count": 11,
   "id": "48781583",
   "metadata": {},
   "outputs": [
    {
     "name": "stdout",
     "output_type": "stream",
     "text": [
      "7/7 [==============================] - 1s 27ms/step - loss: 0.5267 - accuracy: 0.8038\n",
      "\n",
      "0.526702880859375\n",
      "0.8038277626037598\n"
     ]
    }
   ],
   "source": [
    "los, auc = AlexNet.evaluate(X_train, Y_train)\n",
    "print()\n",
    "print(los) \n",
    "print(auc)"
   ]
  },
  {
   "cell_type": "code",
   "execution_count": 12,
   "id": "ca19dec5",
   "metadata": {
    "scrolled": true
   },
   "outputs": [
    {
     "name": "stdout",
     "output_type": "stream",
     "text": [
      "2/2 [==============================] - 0s 26ms/step - loss: 0.8712 - accuracy: 0.7600\n",
      "\n",
      "0.8712033033370972\n",
      "0.7599999904632568\n"
     ]
    }
   ],
   "source": [
    "los, auc = AlexNet.evaluate(X_test, Y_test)\n",
    "print()\n",
    "print(los) \n",
    "print(auc)"
   ]
  },
  {
   "cell_type": "code",
   "execution_count": 13,
   "id": "2a09a0dc",
   "metadata": {},
   "outputs": [],
   "source": [
    "def VVG16_Model():\n",
    "    \n",
    "    model=tf.keras.models.Sequential([\n",
    "    tf.keras.layers.Conv2D(filters=64,kernel_size=(3,3),activation=\"relu\",padding=\"same\",input_shape=(64,64,3)),\n",
    "    tf.keras.layers.Conv2D(filters=64,kernel_size=(3,3),activation=\"relu\",padding=\"same\"), \n",
    "    tf.keras.layers.MaxPool2D(pool_size=(2,2),strides=(2,2)),\n",
    "    tf.keras.layers.Conv2D(filters=128, kernel_size=(3,3), padding=\"same\", activation=\"relu\"),\n",
    "    tf.keras.layers.Conv2D(filters=128, kernel_size=(3,3), padding=\"same\", activation=\"relu\"), \n",
    "    tf.keras.layers.MaxPool2D(pool_size=(2,2),strides=(2,2)),\n",
    "    tf.keras.layers.Conv2D(filters=256, kernel_size=(3,3), padding=\"same\", activation=\"relu\"),\n",
    "    tf.keras.layers.Conv2D(filters=256, kernel_size=(3,3), padding=\"same\", activation=\"relu\"),\n",
    "    tf.keras.layers.Conv2D(filters=256, kernel_size=(3,3), padding=\"same\", activation=\"relu\"),\n",
    "    tf.keras.layers.MaxPool2D(pool_size=(2,2),strides=(2,2)),\n",
    "    tf.keras.layers.Conv2D(filters=512, kernel_size=(3,3), padding=\"same\", activation=\"relu\"),\n",
    "    tf.keras.layers.Conv2D(filters=512, kernel_size=(3,3), padding=\"same\", activation=\"relu\"),\n",
    "    tf.keras.layers.Conv2D(filters=512, kernel_size=(3,3), padding=\"same\", activation=\"relu\"),\n",
    "    tf.keras.layers.MaxPool2D(pool_size=(2,2),strides=(2,2)), \n",
    "    tf.keras.layers.Conv2D(filters=512, kernel_size=(3,3), padding=\"same\", activation=\"relu\"),\n",
    "    tf.keras.layers.Conv2D(filters=512, kernel_size=(3,3), padding=\"same\", activation=\"relu\"),\n",
    "    tf.keras.layers.Conv2D(filters=512, kernel_size=(3,3), padding=\"same\", activation=\"relu\"),\n",
    "    tf.keras.layers.MaxPool2D(pool_size=(2,2),strides=(2,2)),\n",
    "    tf.keras.layers.Flatten(),\n",
    "    tf.keras.layers.Dense(4096,activation='relu'),\n",
    "    tf.keras.layers.Dense(4096,activation='relu'),\n",
    "    tf.keras.layers.Dense(1,activation='sigmoid'),  \n",
    "        \n",
    "        \n",
    "])\n",
    "    \n",
    "    return model ; "
   ]
  },
  {
   "cell_type": "code",
   "execution_count": 14,
   "id": "83fbbde6",
   "metadata": {},
   "outputs": [],
   "source": [
    "Vvg16 = VVG16_Model()"
   ]
  },
  {
   "cell_type": "code",
   "execution_count": 15,
   "id": "7daff2ae",
   "metadata": {},
   "outputs": [],
   "source": [
    "Vvg16.compile(optimizer=tf.keras.optimizers.Adam(learning_rate=0.0001),\n",
    "                   loss='binary_crossentropy',\n",
    "                     metrics=['accuracy'])"
   ]
  },
  {
   "cell_type": "code",
   "execution_count": 16,
   "id": "4249b1ab",
   "metadata": {
    "scrolled": true
   },
   "outputs": [
    {
     "name": "stdout",
     "output_type": "stream",
     "text": [
      "Model: \"sequential_1\"\n",
      "_________________________________________________________________\n",
      "Layer (type)                 Output Shape              Param #   \n",
      "=================================================================\n",
      "conv2d_5 (Conv2D)            (None, 64, 64, 64)        1792      \n",
      "_________________________________________________________________\n",
      "conv2d_6 (Conv2D)            (None, 64, 64, 64)        36928     \n",
      "_________________________________________________________________\n",
      "max_pooling2d_3 (MaxPooling2 (None, 32, 32, 64)        0         \n",
      "_________________________________________________________________\n",
      "conv2d_7 (Conv2D)            (None, 32, 32, 128)       73856     \n",
      "_________________________________________________________________\n",
      "conv2d_8 (Conv2D)            (None, 32, 32, 128)       147584    \n",
      "_________________________________________________________________\n",
      "max_pooling2d_4 (MaxPooling2 (None, 16, 16, 128)       0         \n",
      "_________________________________________________________________\n",
      "conv2d_9 (Conv2D)            (None, 16, 16, 256)       295168    \n",
      "_________________________________________________________________\n",
      "conv2d_10 (Conv2D)           (None, 16, 16, 256)       590080    \n",
      "_________________________________________________________________\n",
      "conv2d_11 (Conv2D)           (None, 16, 16, 256)       590080    \n",
      "_________________________________________________________________\n",
      "max_pooling2d_5 (MaxPooling2 (None, 8, 8, 256)         0         \n",
      "_________________________________________________________________\n",
      "conv2d_12 (Conv2D)           (None, 8, 8, 512)         1180160   \n",
      "_________________________________________________________________\n",
      "conv2d_13 (Conv2D)           (None, 8, 8, 512)         2359808   \n",
      "_________________________________________________________________\n",
      "conv2d_14 (Conv2D)           (None, 8, 8, 512)         2359808   \n",
      "_________________________________________________________________\n",
      "max_pooling2d_6 (MaxPooling2 (None, 4, 4, 512)         0         \n",
      "_________________________________________________________________\n",
      "conv2d_15 (Conv2D)           (None, 4, 4, 512)         2359808   \n",
      "_________________________________________________________________\n",
      "conv2d_16 (Conv2D)           (None, 4, 4, 512)         2359808   \n",
      "_________________________________________________________________\n",
      "conv2d_17 (Conv2D)           (None, 4, 4, 512)         2359808   \n",
      "_________________________________________________________________\n",
      "max_pooling2d_7 (MaxPooling2 (None, 2, 2, 512)         0         \n",
      "_________________________________________________________________\n",
      "flatten_1 (Flatten)          (None, 2048)              0         \n",
      "_________________________________________________________________\n",
      "dense_3 (Dense)              (None, 4096)              8392704   \n",
      "_________________________________________________________________\n",
      "dense_4 (Dense)              (None, 4096)              16781312  \n",
      "_________________________________________________________________\n",
      "dense_5 (Dense)              (None, 1)                 4097      \n",
      "=================================================================\n",
      "Total params: 39,892,801\n",
      "Trainable params: 39,892,801\n",
      "Non-trainable params: 0\n",
      "_________________________________________________________________\n"
     ]
    }
   ],
   "source": [
    "Vvg16.summary()"
   ]
  },
  {
   "cell_type": "code",
   "execution_count": 17,
   "id": "9b73b06f",
   "metadata": {
    "scrolled": true
   },
   "outputs": [
    {
     "name": "stdout",
     "output_type": "stream",
     "text": [
      "Epoch 1/8\n",
      "14/14 [==============================] - 28s 2s/step - loss: 0.6562 - accuracy: 0.6364\n",
      "Epoch 2/8\n",
      "14/14 [==============================] - 28s 2s/step - loss: 0.6268 - accuracy: 0.6555\n",
      "Epoch 3/8\n",
      "14/14 [==============================] - 24s 2s/step - loss: 0.6037 - accuracy: 0.6555\n",
      "Epoch 4/8\n",
      "14/14 [==============================] - 24s 2s/step - loss: 0.5616 - accuracy: 0.6555\n",
      "Epoch 5/8\n",
      "14/14 [==============================] - 30s 2s/step - loss: 0.5414 - accuracy: 0.6890\n",
      "Epoch 6/8\n",
      "14/14 [==============================] - 31s 2s/step - loss: 0.6537 - accuracy: 0.6459\n",
      "Epoch 7/8\n",
      "14/14 [==============================] - 27s 2s/step - loss: 0.5989 - accuracy: 0.6699\n",
      "Epoch 8/8\n",
      "14/14 [==============================] - 27s 2s/step - loss: 0.5079 - accuracy: 0.7033\n"
     ]
    },
    {
     "data": {
      "text/plain": [
       "<keras.callbacks.History at 0x29ef125c880>"
      ]
     },
     "execution_count": 17,
     "metadata": {},
     "output_type": "execute_result"
    }
   ],
   "source": [
    "Vvg16.fit(X_train, Y_train, epochs=8, batch_size=16)"
   ]
  },
  {
   "cell_type": "code",
   "execution_count": 18,
   "id": "b8e9ea51",
   "metadata": {},
   "outputs": [
    {
     "name": "stdout",
     "output_type": "stream",
     "text": [
      "7/7 [==============================] - 7s 840ms/step - loss: 0.4585 - accuracy: 0.7943\n",
      "\n",
      "0.4585007429122925\n",
      "0.7942583560943604\n"
     ]
    }
   ],
   "source": [
    "los, auc = Vvg16.evaluate(X_train, Y_train)\n",
    "print()\n",
    "print(los) \n",
    "print(auc)"
   ]
  },
  {
   "cell_type": "code",
   "execution_count": 19,
   "id": "fbf93216",
   "metadata": {
    "scrolled": true
   },
   "outputs": [
    {
     "name": "stdout",
     "output_type": "stream",
     "text": [
      "2/2 [==============================] - 2s 578ms/step - loss: 0.5794 - accuracy: 0.7800\n",
      "\n",
      "0.5794036388397217\n",
      "0.7799999713897705\n"
     ]
    }
   ],
   "source": [
    "los, auc = Vvg16.evaluate(X_test, Y_test)\n",
    "print()\n",
    "print(los) \n",
    "print(auc)"
   ]
  },
  {
   "cell_type": "code",
   "execution_count": null,
   "id": "81d9c176",
   "metadata": {},
   "outputs": [],
   "source": []
  }
 ],
 "metadata": {
  "kernelspec": {
   "display_name": "Python 3 (ipykernel)",
   "language": "python",
   "name": "python3"
  },
  "language_info": {
   "codemirror_mode": {
    "name": "ipython",
    "version": 3
   },
   "file_extension": ".py",
   "mimetype": "text/x-python",
   "name": "python",
   "nbconvert_exporter": "python",
   "pygments_lexer": "ipython3",
   "version": "3.9.7"
  },
  "varInspector": {
   "cols": {
    "lenName": 16,
    "lenType": 16,
    "lenVar": 40
   },
   "kernels_config": {
    "python": {
     "delete_cmd_postfix": "",
     "delete_cmd_prefix": "del ",
     "library": "var_list.py",
     "varRefreshCmd": "print(var_dic_list())"
    },
    "r": {
     "delete_cmd_postfix": ") ",
     "delete_cmd_prefix": "rm(",
     "library": "var_list.r",
     "varRefreshCmd": "cat(var_dic_list()) "
    }
   },
   "types_to_exclude": [
    "module",
    "function",
    "builtin_function_or_method",
    "instance",
    "_Feature"
   ],
   "window_display": false
  }
 },
 "nbformat": 4,
 "nbformat_minor": 5
}
